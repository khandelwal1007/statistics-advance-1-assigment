{
  "nbformat": 4,
  "nbformat_minor": 0,
  "metadata": {
    "colab": {
      "provenance": []
    },
    "kernelspec": {
      "name": "python3",
      "display_name": "Python 3"
    },
    "language_info": {
      "name": "python"
    }
  },
  "cells": [
    {
      "cell_type": "code",
      "execution_count": null,
      "metadata": {
        "id": "0TYLaMv7mzGk"
      },
      "outputs": [],
      "source": [
        "# 1. Explain the properties of the F-distribution\n",
        "\n",
        "\n",
        "\n",
        "1. Skewed: The F-distribution is not symmetrical, but is skewed to the right.\n",
        "\n",
        "2.Shape: The shape of the F-distribution depends on the degrees of freedom for the numerator and denominator.\n",
        "\n",
        "3.Range: The F-statistic is greater than or equal to zero.\n",
        "\n",
        "4.Approximates normal: As the degrees of freedom for the numerator and denominator increase, the curve approximates the normal curve.\n",
        "\n",
        "5.Uses: The F-distribution is used in hypothesis testing, comparing two variances, and two-way Analysis of Variance.\n",
        "\n",
        "6.Ratio: A random variable \\(X\\) has an F distribution if it can be written as a ratio of two Chi-square random variables.\n",
        "\n",
        "7.Positively skewed: The F-distribution is positively skewed because it is a ratio of two positive quantities.\n",
        "\n"
      ]
    },
    {
      "cell_type": "code",
      "source": [
        "# 2.In which types of statistical tests is the F-distribution used, and why is it appropriate for these tests?\n",
        "\n",
        "The F-distribution is used in statistical tests that compare variances, such as the F-test, and in Analysis of Variance (ANOVA). The F-distribution is appropriate for these tests because it's a probability distribution that arises frequently as the null distribution of a test statistic.\n",
        "\n",
        "\n",
        "F-test\n",
        "A statistical test that compares the variances of two samples or the ratio of variances between multiple samples. The F-test uses the F-statistic to divide the variances and determine if they are significantly different. The F-test can be one-tailed or two-tailed.\n",
        "\n",
        "\n",
        "ANOVA\n",
        "A statistical test that compares multiple group means. The F-test is used in ANOVA to determine if the variability between group means is larger than the variability of the observations within the groups.\n",
        "\n",
        "\n",
        "F-distribution shape\n",
        "The F-distribution is skewed to the right and its values are always positive. The shape of the distribution may be slightly different depending on the number of degrees of freedom for the numerator and denominator..\n",
        "\n",
        "F-test statistic\n",
        "The F-test statistic is used in other tests such as regression analysis, the chow test, and Scheffe test."
      ],
      "metadata": {
        "id": "NHR2BtYwm09R"
      },
      "execution_count": null,
      "outputs": []
    },
    {
      "cell_type": "code",
      "source": [
        "# 3.What are the key assumptions required for conducting an F-test to compare the variances of two populations?\n",
        "\n",
        "To conduct an F-test to compare the variances of two populations, the following assumptions are required:\n",
        "\n",
        "Independence: The samples must be independent events.\n",
        "\n",
        "Normality: The populations from which the samples are drawn must be normally distributed.\n",
        "\n",
        "Random sampling: The samples must be randomly sampled from their respective populations"
      ],
      "metadata": {
        "id": "6zkVbMF1o4ip"
      },
      "execution_count": null,
      "outputs": []
    },
    {
      "cell_type": "markdown",
      "source": [],
      "metadata": {
        "id": "mDqwhDII-ugg"
      }
    },
    {
      "cell_type": "code",
      "source": [
        "# 4. What is the purpose of ANOVA, and how does it differ from a t-test?\n",
        "\n",
        "\n",
        "\n",
        "Here are some other differences between ANOVA and a t-test:\n",
        "\n",
        "Errors: ANOVA controls for errors so that the Type I error remains at 5%.\n",
        "\n",
        "P-value: Both tests convert their test statistics into a p-value, which is the probability that all the populations being compared are the same. A lower p-value reflects a higher statistical difference between the populations.\n",
        "\n",
        "\n",
        "Sample size: Both tests are performed when samples are independent of each other, have approximately normal distributions, and have a high sample number (e.g., > 30 per group.\n",
        "\n",
        "ANOVA can be used in a variety of ways, including:\n",
        "\n",
        "One-way ANOVA: Used when there is one categorical independent variable.\n",
        "\n",
        "Two-way ANOVA: Used when there are two categorical independent variables."
      ],
      "metadata": {
        "id": "UvtDRlLwo4xt"
      },
      "execution_count": null,
      "outputs": []
    },
    {
      "cell_type": "code",
      "source": [
        "# 5. Explain when and why you would use a one-way ANOVA instead of multiple t-tests when comparing more than two groups.\n",
        "\n",
        "A one-way Analysis of Variance (ANOVA) is used instead of multiple t-tests when comparing more than two groups because it controls for Type I error and allows for the comparison of multiple means at once.\n",
        "\n",
        "Type I error:-\n",
        "Each time a t-test is conducted, there is a 5% chance of making a Type I error. When multiple t-tests are conducted, the chance of making a Type I error increases. For example, if two t-tests are conducted, the chance of making a Type I error is 10%. ANOVA controls for these errors and keeps the Type I error at 5%.\n",
        "\n",
        "\n",
        "Comparing multiple means:-\n",
        "ANOVA allows for the comparison of multiple means at once by calculating the error for the whole set of comparisons. With a t-test, the error is calculated for each individual two-way comparison.\n",
        "\n",
        "Comparing three or more groups:-\n",
        "A one-way ANOVA can compare the means across three or more groups, while an independent samples t-test can only compare the means for two groups.\n",
        "\n",
        "ANOVA is used when there is a comparison between more than two population means and when data has been collected about one categorical independent variable and one quantitative dependent variable.\n"
      ],
      "metadata": {
        "id": "YHyKvzZZp-Q9"
      },
      "execution_count": null,
      "outputs": []
    },
    {
      "cell_type": "code",
      "source": [
        "#  6. Explain how variance is partitioned in ANOVA into between-group variance and within-group variance.\n",
        "#How does this partitioning contribute to the calculation of the F-statisics.?\n",
        "\n",
        "\n",
        "In Analysis of Variance (ANOVA), variance is partitioned into between-group and within-group components by dividing sums of squares by degrees of freedom. This partitioning contributes to the calculation of the F-statistic by providing the numerator and denominator for the ratio.\n",
        "\n",
        "\n",
        "Between-group variance:- The between-group variance is calculated by dividing the sum of squares between groups (SSB) by the degrees of freedom for the between-group variance, which is \\(k-1\\)\n",
        "\n",
        "Within-group variance:- The within-group variance is calculated by dividing the sum of squares within groups (SSE) by the degrees of freedom for the within-group variance, which is \\(N-k\\).\n",
        "\n",
        "F-statistic :-The F-statistic is the ratio of the between-group variance to the within-group variance, or \\(MSB/MSE\\).\n",
        "\n",
        "\n",
        "The F-statistic is used to assess the variability between and within samples. If the null hypothesis is true, meaning there is no difference between the groups, the F-statistic will be close to one. If the F-statistic is large, it means the between-group variance is greater than the within-group variance, and at least one of the means is different from the others."
      ],
      "metadata": {
        "id": "ikYrYvZVp-Y9"
      },
      "execution_count": null,
      "outputs": []
    },
    {
      "cell_type": "code",
      "source": [
        "#7.Compare the classical (frequentist) approach to ANOVA with the Bayesian approach. What are the key\n",
        "# in terms of how they handle uncertainty, parameter estimation, and hypothesis testing?#\n",
        "\n",
        " \tFrequentists\tBayesians\n",
        "Hypothesis testing\tSet null and alternative hypotheses and use statistical tests to assess evidence against the null.\tConsider prior beliefs when forming hypotheses.\n",
        "Probability interpretation\tFrame probability in terms of objective, long-term frequencies.\tInterpret probabilities subjectively and update them as new data is collected.\n",
        "Sampling\tEmphasize random sampling and often require fixed sample sizes.\tCan adapt well to varying sample sizes since Bayesians update their beliefs as m"
      ],
      "metadata": {
        "id": "z_O-wmpyp-i6"
      },
      "execution_count": null,
      "outputs": []
    },
    {
      "cell_type": "code",
      "source": [
        "# 8. Question: You have two sets of data representing the incomes of two different professions\n",
        "#  Profession A: [48, 52, 55, 60, 62]\n",
        "#  Profession B: [45, 50, 55, 52, 47] Perform an F-test to determine if the variances of the two professions'\n",
        "# incomes are equal. What are your conclusions based on the F-test?\n",
        "#  Task: Use Python to calculate the F-statistic and p-value for the given data.\n",
        "#  Objective: Gain experience in performing F-tests and interpreting the results in terms of variance comparison.\n",
        "\n",
        "\n",
        "\n"
      ],
      "metadata": {
        "id": "lS9YMaonr6-a"
      },
      "execution_count": null,
      "outputs": []
    },
    {
      "cell_type": "code",
      "source": [
        " #9. Question: Conduct a one-way ANOVA to test whether there are any statistically significant differences in\n",
        "#average heights between three different regions with the following data\n",
        "# Region A: [160, 162, 165, 158, 164\n",
        " #Region B: [172, 175, 170, 168, 174\n",
        "# Region C: [180, 182, 179, 185, 183\n",
        " #Task: Write Python code to perform the one-way ANOVA and interpret the results\n",
        " #Objective: Learn how to perform one-way ANOVA using Python and interpret F-statistic and p-value\n",
        "\n",
        "\n",
        "\n",
        "\n",
        "\n",
        "\n",
        "\n",
        "from scipy.stats import f_oneway\n",
        "\n",
        "# Data for each region\n",
        "region_A = [160, 162, 165, 158, 164]\n",
        "region_B = [172, 175, 170, 168, 174]\n",
        "region_C = [180, 182, 179, 185, 183]\n",
        "\n",
        "# Perform one-way ANOVA\n",
        "F_statistic, p_value = f_oneway(region_A, region_B, region_C)\n",
        "\n",
        "# Display the results\n",
        "print(\"F-statistic:\", F_statistic)\n",
        "print(\"p-value:\", p_value)\n"
      ],
      "metadata": {
        "colab": {
          "base_uri": "https://localhost:8080/"
        },
        "id": "ZAwxqcgRr7IE",
        "outputId": "22677e34-3d63-4635-c8a4-dd2395e5493f"
      },
      "execution_count": null,
      "outputs": [
        {
          "output_type": "stream",
          "name": "stdout",
          "text": [
            "F-statistic: 67.87330316742101\n",
            "p-value: 2.870664187937026e-07\n"
          ]
        }
      ]
    },
    {
      "cell_type": "code",
      "source": [
        "\n"
      ],
      "metadata": {
        "id": "7WjY9QUavWcp"
      },
      "execution_count": null,
      "outputs": []
    }
  ]
}